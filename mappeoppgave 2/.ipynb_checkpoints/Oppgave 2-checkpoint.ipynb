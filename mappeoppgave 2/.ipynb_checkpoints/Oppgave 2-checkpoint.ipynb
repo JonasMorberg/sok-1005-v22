{
 "cells": [
  {
   "cell_type": "markdown",
   "id": "6424eeb3-fd9f-4d16-905e-fa337ea5efde",
   "metadata": {},
   "source": [
    "Oppgave 2\n"
   ]
  },
  {
   "cell_type": "code",
   "execution_count": 1,
   "id": "383eb606-8574-4d9f-a92b-f6df29ee3bfe",
   "metadata": {},
   "outputs": [
    {
     "data": {
      "text/html": [
       "4"
      ],
      "text/latex": [
       "4"
      ],
      "text/markdown": [
       "4"
      ],
      "text/plain": [
       "[1] 4"
      ]
     },
     "metadata": {},
     "output_type": "display_data"
    }
   ],
   "source": [
    "2+2"
   ]
  }
 ],
 "metadata": {
  "kernelspec": {
   "display_name": "R",
   "language": "R",
   "name": "ir"
  },
  "language_info": {
   "codemirror_mode": "r",
   "file_extension": ".r",
   "mimetype": "text/x-r-source",
   "name": "R",
   "pygments_lexer": "r",
   "version": "4.1.2"
  }
 },
 "nbformat": 4,
 "nbformat_minor": 5
}
