{
 "cells": [
  {
   "cell_type": "markdown",
   "id": "87446d6d-ba90-498d-83e5-3c9fd5b1b5f3",
   "metadata": {},
   "source": [
    "Oppgave 2"
   ]
  },
  {
   "cell_type": "code",
   "execution_count": 1,
   "id": "897cf3b9-6eee-4646-9fcd-06ef2a5caefe",
   "metadata": {},
   "outputs": [
    {
     "data": {
      "text/html": [
       "4"
      ],
      "text/latex": [
       "4"
      ],
      "text/markdown": [
       "4"
      ],
      "text/plain": [
       "[1] 4"
      ]
     },
     "metadata": {},
     "output_type": "display_data"
    }
   ],
   "source": [
    "2+2"
   ]
  }
 ],
 "metadata": {
  "kernelspec": {
   "display_name": "R",
   "language": "R",
   "name": "ir"
  },
  "language_info": {
   "codemirror_mode": "r",
   "file_extension": ".r",
   "mimetype": "text/x-r-source",
   "name": "R",
   "pygments_lexer": "r",
   "version": "4.1.2"
  }
 },
 "nbformat": 4,
 "nbformat_minor": 5
}
