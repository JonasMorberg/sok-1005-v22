{
 "cells": [
  {
   "cell_type": "markdown",
   "id": "122532e3-4b2e-4e51-abb4-47fe7d79e036",
   "metadata": {},
   "source": [
    "Oppgave 1"
   ]
  },
  {
   "cell_type": "code",
   "execution_count": 1,
   "id": "6663cf16-dbe5-454c-b184-f12c69fe448c",
   "metadata": {},
   "outputs": [
    {
     "data": {
      "text/html": [
       "4"
      ],
      "text/latex": [
       "4"
      ],
      "text/markdown": [
       "4"
      ],
      "text/plain": [
       "[1] 4"
      ]
     },
     "metadata": {},
     "output_type": "display_data"
    }
   ],
   "source": [
    "2+2"
   ]
  }
 ],
 "metadata": {
  "kernelspec": {
   "display_name": "R",
   "language": "R",
   "name": "ir"
  },
  "language_info": {
   "codemirror_mode": "r",
   "file_extension": ".r",
   "mimetype": "text/x-r-source",
   "name": "R",
   "pygments_lexer": "r",
   "version": "4.1.0"
  }
 },
 "nbformat": 4,
 "nbformat_minor": 5
}
